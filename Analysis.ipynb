{
 "cells": [
  {
   "cell_type": "markdown",
   "source": [
    "Project"
   ],
   "metadata": {}
  },
  {
   "cell_type": "code",
   "execution_count": 1,
   "source": [
    "#Importing Libraries\r\n",
    "import numpy as np\r\n",
    "import matplotlib.pyplot as plt  \r\n",
    "import pandas as pd  \r\n",
    "import seaborn as sns"
   ],
   "outputs": [],
   "metadata": {}
  },
  {
   "cell_type": "code",
   "execution_count": null,
   "source": [],
   "outputs": [],
   "metadata": {}
  },
  {
   "cell_type": "code",
   "execution_count": 2,
   "source": [
    "#Loading dataset\r\n",
    "df = pd.read_csv(\"Project.csv\")\r\n",
    "df.head(-1)\r\n"
   ],
   "outputs": [
    {
     "output_type": "execute_result",
     "data": {
      "text/plain": [
       "     Gender  Age (in years)      State Type of City     Employment  \\\n",
       "0    Female              22    Haryana       TIER 2        Student   \n",
       "1      Male              20      Delhi       TIER 2        Student   \n",
       "2    Female              20      Delhi       TIER 1        Student   \n",
       "3      Male              21      Delhi       TIER 1        Student   \n",
       "4      Male              19  New Delhi       TIER 1        Student   \n",
       "..      ...             ...        ...          ...            ...   \n",
       "242    Male              20      Delhi       TIER 2        Student   \n",
       "243  Female              26      Delhi       TIER 1  Self Employed   \n",
       "244  Female              22    Haryana       TIER 2  Self Employed   \n",
       "245  Female              24      Bihar       TIER 3       Salaried   \n",
       "246    Male              20  New Delhi       TIER 2       Salaried   \n",
       "\n",
       "                       Product_Category_You_Like_Most  \n",
       "0                                      Books & Novels  \n",
       "1    Entertainment Subscriptions(Netflix, Prime Etc.)  \n",
       "2                                      Books & Novels  \n",
       "3                                  Electronic Gadgets  \n",
       "4                                      Gaming Devices  \n",
       "..                                                ...  \n",
       "242  Entertainment Subscriptions(Netflix, Prime Etc.)  \n",
       "243                                    Books & Novels  \n",
       "244                                Electronic Gadgets  \n",
       "245                                           Apparel  \n",
       "246                                           Apparel  \n",
       "\n",
       "[247 rows x 6 columns]"
      ],
      "text/html": [
       "<div>\n",
       "<style scoped>\n",
       "    .dataframe tbody tr th:only-of-type {\n",
       "        vertical-align: middle;\n",
       "    }\n",
       "\n",
       "    .dataframe tbody tr th {\n",
       "        vertical-align: top;\n",
       "    }\n",
       "\n",
       "    .dataframe thead th {\n",
       "        text-align: right;\n",
       "    }\n",
       "</style>\n",
       "<table border=\"1\" class=\"dataframe\">\n",
       "  <thead>\n",
       "    <tr style=\"text-align: right;\">\n",
       "      <th></th>\n",
       "      <th>Gender</th>\n",
       "      <th>Age (in years)</th>\n",
       "      <th>State</th>\n",
       "      <th>Type of City</th>\n",
       "      <th>Employment</th>\n",
       "      <th>Product_Category_You_Like_Most</th>\n",
       "    </tr>\n",
       "  </thead>\n",
       "  <tbody>\n",
       "    <tr>\n",
       "      <th>0</th>\n",
       "      <td>Female</td>\n",
       "      <td>22</td>\n",
       "      <td>Haryana</td>\n",
       "      <td>TIER 2</td>\n",
       "      <td>Student</td>\n",
       "      <td>Books &amp; Novels</td>\n",
       "    </tr>\n",
       "    <tr>\n",
       "      <th>1</th>\n",
       "      <td>Male</td>\n",
       "      <td>20</td>\n",
       "      <td>Delhi</td>\n",
       "      <td>TIER 2</td>\n",
       "      <td>Student</td>\n",
       "      <td>Entertainment Subscriptions(Netflix, Prime Etc.)</td>\n",
       "    </tr>\n",
       "    <tr>\n",
       "      <th>2</th>\n",
       "      <td>Female</td>\n",
       "      <td>20</td>\n",
       "      <td>Delhi</td>\n",
       "      <td>TIER 1</td>\n",
       "      <td>Student</td>\n",
       "      <td>Books &amp; Novels</td>\n",
       "    </tr>\n",
       "    <tr>\n",
       "      <th>3</th>\n",
       "      <td>Male</td>\n",
       "      <td>21</td>\n",
       "      <td>Delhi</td>\n",
       "      <td>TIER 1</td>\n",
       "      <td>Student</td>\n",
       "      <td>Electronic Gadgets</td>\n",
       "    </tr>\n",
       "    <tr>\n",
       "      <th>4</th>\n",
       "      <td>Male</td>\n",
       "      <td>19</td>\n",
       "      <td>New Delhi</td>\n",
       "      <td>TIER 1</td>\n",
       "      <td>Student</td>\n",
       "      <td>Gaming Devices</td>\n",
       "    </tr>\n",
       "    <tr>\n",
       "      <th>...</th>\n",
       "      <td>...</td>\n",
       "      <td>...</td>\n",
       "      <td>...</td>\n",
       "      <td>...</td>\n",
       "      <td>...</td>\n",
       "      <td>...</td>\n",
       "    </tr>\n",
       "    <tr>\n",
       "      <th>242</th>\n",
       "      <td>Male</td>\n",
       "      <td>20</td>\n",
       "      <td>Delhi</td>\n",
       "      <td>TIER 2</td>\n",
       "      <td>Student</td>\n",
       "      <td>Entertainment Subscriptions(Netflix, Prime Etc.)</td>\n",
       "    </tr>\n",
       "    <tr>\n",
       "      <th>243</th>\n",
       "      <td>Female</td>\n",
       "      <td>26</td>\n",
       "      <td>Delhi</td>\n",
       "      <td>TIER 1</td>\n",
       "      <td>Self Employed</td>\n",
       "      <td>Books &amp; Novels</td>\n",
       "    </tr>\n",
       "    <tr>\n",
       "      <th>244</th>\n",
       "      <td>Female</td>\n",
       "      <td>22</td>\n",
       "      <td>Haryana</td>\n",
       "      <td>TIER 2</td>\n",
       "      <td>Self Employed</td>\n",
       "      <td>Electronic Gadgets</td>\n",
       "    </tr>\n",
       "    <tr>\n",
       "      <th>245</th>\n",
       "      <td>Female</td>\n",
       "      <td>24</td>\n",
       "      <td>Bihar</td>\n",
       "      <td>TIER 3</td>\n",
       "      <td>Salaried</td>\n",
       "      <td>Apparel</td>\n",
       "    </tr>\n",
       "    <tr>\n",
       "      <th>246</th>\n",
       "      <td>Male</td>\n",
       "      <td>20</td>\n",
       "      <td>New Delhi</td>\n",
       "      <td>TIER 2</td>\n",
       "      <td>Salaried</td>\n",
       "      <td>Apparel</td>\n",
       "    </tr>\n",
       "  </tbody>\n",
       "</table>\n",
       "<p>247 rows × 6 columns</p>\n",
       "</div>"
      ]
     },
     "metadata": {},
     "execution_count": 2
    }
   ],
   "metadata": {}
  },
  {
   "cell_type": "markdown",
   "source": [
    "**Data preprocessing**"
   ],
   "metadata": {}
  },
  {
   "cell_type": "code",
   "execution_count": 3,
   "source": [
    "#looking for unique datapoints to select suitable encoding\r\n",
    "for x in df.columns:\r\n",
    "    print(x,':' , len(df[x].unique()))"
   ],
   "outputs": [
    {
     "output_type": "stream",
     "name": "stdout",
     "text": [
      "Gender : 2\n",
      "Age (in years) : 14\n",
      "State : 7\n",
      "Type of City : 3\n",
      "Employment : 3\n",
      "Product_Category_You_Like_Most : 6\n"
     ]
    }
   ],
   "metadata": {}
  },
  {
   "cell_type": "code",
   "execution_count": 4,
   "source": [
    "#dropping \"Age\" column as we dont want to encode it\r\n",
    "df_temp = df['Age (in years)']\r\n",
    "df_nonAge=df.drop(['Age (in years)'] , axis= 1)\r\n"
   ],
   "outputs": [],
   "metadata": {}
  },
  {
   "cell_type": "code",
   "execution_count": 5,
   "source": [
    "#Encoding categorical variables\r\n",
    "\r\n",
    "from sklearn import preprocessing\r\n",
    "df_col = list(df_nonAge.columns)\r\n",
    "label_encoder = preprocessing.LabelEncoder()\r\n",
    "for i in range(len(df_col)):\r\n",
    "    df_nonAge[df_col[i]] = label_encoder.fit_transform(df_nonAge[df_col[i]])\r\n",
    "\r\n"
   ],
   "outputs": [],
   "metadata": {}
  },
  {
   "cell_type": "code",
   "execution_count": 6,
   "source": [
    "#Putting together dataframe\r\n",
    "ds = pd.concat([df_nonAge,df_temp], axis=1 , join='inner')\r\n",
    "first_col = ds.pop('Age (in years)')\r\n",
    "ds.insert(1 , 'Age (in years)' , first_col)\r\n",
    "ds.head()"
   ],
   "outputs": [
    {
     "output_type": "execute_result",
     "data": {
      "text/plain": [
       "   Gender  Age (in years)  State  Type of City  Employment  \\\n",
       "0       0              22      2             1           2   \n",
       "1       1              20      1             1           2   \n",
       "2       0              20      1             0           2   \n",
       "3       1              21      1             0           2   \n",
       "4       1              19      3             0           2   \n",
       "\n",
       "   Product_Category_You_Like_Most  \n",
       "0                               1  \n",
       "1                               3  \n",
       "2                               1  \n",
       "3                               2  \n",
       "4                               5  "
      ],
      "text/html": [
       "<div>\n",
       "<style scoped>\n",
       "    .dataframe tbody tr th:only-of-type {\n",
       "        vertical-align: middle;\n",
       "    }\n",
       "\n",
       "    .dataframe tbody tr th {\n",
       "        vertical-align: top;\n",
       "    }\n",
       "\n",
       "    .dataframe thead th {\n",
       "        text-align: right;\n",
       "    }\n",
       "</style>\n",
       "<table border=\"1\" class=\"dataframe\">\n",
       "  <thead>\n",
       "    <tr style=\"text-align: right;\">\n",
       "      <th></th>\n",
       "      <th>Gender</th>\n",
       "      <th>Age (in years)</th>\n",
       "      <th>State</th>\n",
       "      <th>Type of City</th>\n",
       "      <th>Employment</th>\n",
       "      <th>Product_Category_You_Like_Most</th>\n",
       "    </tr>\n",
       "  </thead>\n",
       "  <tbody>\n",
       "    <tr>\n",
       "      <th>0</th>\n",
       "      <td>0</td>\n",
       "      <td>22</td>\n",
       "      <td>2</td>\n",
       "      <td>1</td>\n",
       "      <td>2</td>\n",
       "      <td>1</td>\n",
       "    </tr>\n",
       "    <tr>\n",
       "      <th>1</th>\n",
       "      <td>1</td>\n",
       "      <td>20</td>\n",
       "      <td>1</td>\n",
       "      <td>1</td>\n",
       "      <td>2</td>\n",
       "      <td>3</td>\n",
       "    </tr>\n",
       "    <tr>\n",
       "      <th>2</th>\n",
       "      <td>0</td>\n",
       "      <td>20</td>\n",
       "      <td>1</td>\n",
       "      <td>0</td>\n",
       "      <td>2</td>\n",
       "      <td>1</td>\n",
       "    </tr>\n",
       "    <tr>\n",
       "      <th>3</th>\n",
       "      <td>1</td>\n",
       "      <td>21</td>\n",
       "      <td>1</td>\n",
       "      <td>0</td>\n",
       "      <td>2</td>\n",
       "      <td>2</td>\n",
       "    </tr>\n",
       "    <tr>\n",
       "      <th>4</th>\n",
       "      <td>1</td>\n",
       "      <td>19</td>\n",
       "      <td>3</td>\n",
       "      <td>0</td>\n",
       "      <td>2</td>\n",
       "      <td>5</td>\n",
       "    </tr>\n",
       "  </tbody>\n",
       "</table>\n",
       "</div>"
      ]
     },
     "metadata": {},
     "execution_count": 6
    }
   ],
   "metadata": {}
  },
  {
   "cell_type": "code",
   "execution_count": 7,
   "source": [
    " #Extracting Independent and dependent Variable  \r\n",
    "x= ds.iloc[:, [0,4]].values  \r\n",
    "y= ds.iloc[:,5].values "
   ],
   "outputs": [],
   "metadata": {}
  },
  {
   "cell_type": "code",
   "execution_count": 8,
   "source": [
    "#Splitting the dataset into training and test set.  \r\n",
    "from sklearn.model_selection import train_test_split  \r\n",
    "x_train, x_test, y_train, y_test= train_test_split(x, y, test_size= 0.20 , random_state=0)"
   ],
   "outputs": [],
   "metadata": {}
  },
  {
   "cell_type": "code",
   "execution_count": 9,
   "source": [
    "#feature Scaling  \r\n",
    "from sklearn.preprocessing import StandardScaler    \r\n",
    "st_x= StandardScaler()    \r\n",
    "x_train= st_x.fit_transform(x_train)    \r\n",
    "x_test= st_x.transform(x_test)"
   ],
   "outputs": [],
   "metadata": {}
  },
  {
   "cell_type": "code",
   "execution_count": 10,
   "source": [
    "# Fitting Gaussian Naive bayes to the training set  \r\n",
    "from sklearn.naive_bayes import GaussianNB\r\n",
    "classifier = GaussianNB()\r\n",
    "classifier.fit(x_train , y_train)"
   ],
   "outputs": [
    {
     "output_type": "execute_result",
     "data": {
      "text/plain": [
       "GaussianNB()"
      ]
     },
     "metadata": {},
     "execution_count": 10
    }
   ],
   "metadata": {}
  },
  {
   "cell_type": "code",
   "execution_count": 11,
   "source": [
    "# Predicting the test set result  \r\n",
    "y_pred= classifier.predict(x_test)  \r\n"
   ],
   "outputs": [],
   "metadata": {}
  },
  {
   "cell_type": "code",
   "execution_count": 12,
   "source": [
    "# Creating the Confusion matrix  \r\n",
    "from sklearn import metrics\r\n",
    "cm = metrics.confusion_matrix(y_test, y_pred) \r\n",
    "print(cm)\r\n",
    "accuracy = metrics.accuracy_score(y_test, y_pred) \r\n",
    "print(\"Accuracy score:\",accuracy)\r\n"
   ],
   "outputs": [
    {
     "output_type": "stream",
     "name": "stdout",
     "text": [
      "[[ 2  1  7  0  0  0]\n",
      " [ 1  0 11  0  0  0]\n",
      " [ 2  1  8  0  0  0]\n",
      " [ 3  0  7  0  0  0]\n",
      " [ 2  0  1  0  0  0]\n",
      " [ 1  1  2  0  0  0]]\n",
      "Accuracy score: 0.2\n"
     ]
    }
   ],
   "metadata": {}
  },
  {
   "cell_type": "code",
   "execution_count": 13,
   "source": [
    "from sklearn.linear_model import RidgeCV, LassoCV, Ridge, Lasso\r\n",
    "reg = LassoCV()\r\n",
    "reg.fit(x, y)\r\n",
    "print(\"Best alpha using built-in LassoCV: %f\" % reg.alpha_)\r\n",
    "print(\"Best score using built-in LassoCV: %f\" %reg.score(x,y))\r\n",
    "coef = pd.Series(reg.coef_,index= ['Gender', 'Age (in years)'])\r\n",
    "\r\n",
    "print(\"Lasso picked \" + str(sum(coef != 0)) + \" variables and eliminated the other \" +  str(sum(coef == 0)) + \" variables\")\r\n",
    "\r\n",
    "imp_coef = coef.sort_values()\r\n",
    "import matplotlib\r\n",
    "matplotlib.rcParams['figure.figsize'] = (8.0,10.0)\r\n",
    "imp_coef.plot(kind = \"barh\" )\r\n",
    "plt.title(\"Feature importance using Lasso Model\")\r\n",
    "\r\n",
    "\r\n",
    "# Pair-wise Scatter Plots\r\n",
    "cols = ['Gender', 'Age (in years)', 'State', 'Type of City', 'Employment']\r\n",
    "pp = sns.pairplot(ds[cols], height=1.8, aspect=1.8,\r\n",
    "                  plot_kws=dict(edgecolor=\"r\", linewidth=0.5),\r\n",
    "                  diag_kind=\"kde\", diag_kws=dict(shade=True))\r\n",
    "\r\n",
    "fig = pp.fig \r\n",
    "fig.subplots_adjust(top=0.93, wspace=0.3)\r\n",
    "t = fig.suptitle('Product Category', fontsize=14)\r\n",
    "\r\n",
    "# Scaling attribute values to avoid few outliers\r\n",
    "cols = ['Gender', 'Age (in years)', 'State', 'Type of City', 'Employment']\r\n",
    "subset_ds = ds[cols]\r\n",
    "\r\n",
    "from sklearn.preprocessing import StandardScaler\r\n",
    "ss = StandardScaler()\r\n",
    "\r\n",
    "scaled_ds = ss.fit_transform(subset_ds)\r\n",
    "scaled_ds = pd.DataFrame(scaled_ds, columns=cols)\r\n",
    "final_ds = pd.concat([scaled_ds, ds['Product_Category_You_Like_Most']], axis=1)\r\n",
    "final_ds.head()\r\n",
    "\r\n",
    "# plot parallel coordinates\r\n",
    "from pandas.plotting import parallel_coordinates\r\n",
    "pc = parallel_coordinates(final_ds, 'Product_Category_You_Like_Most', color=('#FFE888', '#FF9999'))"
   ],
   "outputs": [
    {
     "output_type": "stream",
     "name": "stdout",
     "text": [
      "Best alpha using built-in LassoCV: 0.019901\n",
      "Best score using built-in LassoCV: 0.000000\n",
      "Lasso picked 0 variables and eliminated the other 2 variables\n"
     ]
    }
   ],
   "metadata": {}
  },
  {
   "cell_type": "code",
   "execution_count": null,
   "source": [],
   "outputs": [],
   "metadata": {}
  }
 ],
 "metadata": {
  "orig_nbformat": 4,
  "language_info": {
   "name": "python",
   "version": "3.9.6",
   "mimetype": "text/x-python",
   "codemirror_mode": {
    "name": "ipython",
    "version": 3
   },
   "pygments_lexer": "ipython3",
   "nbconvert_exporter": "python",
   "file_extension": ".py"
  },
  "kernelspec": {
   "name": "python3",
   "display_name": "Python 3.9.6 64-bit"
  },
  "interpreter": {
   "hash": "03dc0f280377ee888a5fa646b9e77611fc645a7241eaf19a642ae5d7111d5677"
  }
 },
 "nbformat": 4,
 "nbformat_minor": 2
}